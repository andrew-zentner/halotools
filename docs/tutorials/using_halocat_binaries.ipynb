{
 "metadata": {
  "name": "",
  "signature": "sha256:29390516c981a8b5c6fef8fc428b92f0699b1cc93483565a46d2918428348c97"
 },
 "nbformat": 3,
 "nbformat_minor": 0,
 "worksheets": [
  {
   "cells": [
    {
     "cell_type": "markdown",
     "metadata": {},
     "source": [
      "using-halocat-binaries\n",
      "\n",
      "Managing pre-processed halo catalogs\n"
     ]
    },
    {
     "cell_type": "code",
     "collapsed": false,
     "input": [
      "from halotools import sim_manager\n"
     ],
     "language": "python",
     "metadata": {},
     "outputs": [],
     "prompt_number": 18
    },
    {
     "cell_type": "code",
     "collapsed": false,
     "input": [
      "default_snapshot = sim_manager.ProcessedSnapshot()\n"
     ],
     "language": "python",
     "metadata": {},
     "outputs": [
      {
       "output_type": "stream",
       "stream": "stdout",
       "text": [
        "Loading z = -0.00 halo catalog with the following absolute path: \n",
        "/Users/aphearin/.astropy/cache/halotools/halo_catalogs/bolshoi/rockstar/hlist_1.00030.list.halotools.official.version.hdf5\n",
        "\n"
       ]
      }
     ],
     "prompt_number": 19
    },
    {
     "cell_type": "markdown",
     "metadata": {},
     "source": [
      "The ```~halotools.sim_manager.ProcessedSnapshot``` is the primary class you will use when working with halo catalogs. When you instantiate this class, as in the second line of code above, Halotools searches for the relevant halo catalog and attaches the the halos to the snapshot object in the form of the ``halos`` attribute:\n"
     ]
    },
    {
     "cell_type": "code",
     "collapsed": false,
     "input": [
      "print(default_snapshot.halos[0:4])\n"
     ],
     "language": "python",
     "metadata": {},
     "outputs": [
      {
       "output_type": "stream",
       "stream": "stdout",
       "text": [
        "scale    haloid   scale_desc ... mvir_firstacc vmax_firstacc vmax_mpeak\n",
        "------ ---------- ---------- ... ------------- ------------- ----------\n",
        "1.0003 3060299107        0.0 ...     1.643e+14        952.39     952.39\n",
        "1.0003 3060312953        0.0 ...     1.589e+14        823.11     823.11\n",
        "1.0003 3058440575        0.0 ...     1.144e+14        799.42     799.42\n",
        "1.0003 3058441456        0.0 ...     9.709e+13        679.37     679.37\n"
       ]
      }
     ],
     "prompt_number": 20
    },
    {
     "cell_type": "markdown",
     "metadata": {},
     "source": [
      "The data structure behind the scenes of the ``halos`` attribute of ``default_snapshot`` is an Astropy Table. We'll give a few simple examples illustrating how to manipulate Astropy Tables below, but for more detailed information about this data structure, see ```astropy.table```. \n",
      "\n",
      "The ``default_snapshot`` also has the halo catalog and simulation metadata bound to it. Here are a few examples:"
     ]
    },
    {
     "cell_type": "code",
     "collapsed": false,
     "input": [
      "print(\"Simulation name = %s \" % default_snapshot.simname)\n",
      "print(\"Halo-finder = %s \" % default_snapshot.halo_finder)\n",
      "print(\"Snapshot redshift = %.1f \" % default_snapshot.redshift)\n",
      "print(\"Simulation spatial resolution = %.1f kpc/h\" % default_snapshot.softening_length)\n"
     ],
     "language": "python",
     "metadata": {},
     "outputs": [
      {
       "output_type": "stream",
       "stream": "stdout",
       "text": [
        "Simulation name = bolshoi \n",
        "Halo-finder = rockstar \n",
        "Snapshot redshift = -0.0 \n",
        "Simulation spatial resolution = 1.0 kpc/h\n"
       ]
      }
     ],
     "prompt_number": 21
    },
    {
     "cell_type": "markdown",
     "metadata": {},
     "source": [
      "# Downloading other pre-processed snapshots\n",
      "\n",
      "Up until now, you have been working with the default snapshot downloaded by the startup script ``download_initial_halocat``. "
     ]
    },
    {
     "cell_type": "code",
     "collapsed": false,
     "input": [],
     "language": "python",
     "metadata": {},
     "outputs": [],
     "prompt_number": 21
    }
   ],
   "metadata": {}
  }
 ]
}