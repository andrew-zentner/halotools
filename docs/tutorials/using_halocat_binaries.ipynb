{
 "metadata": {
  "name": "",
  "signature": "sha256:45011504933df87aaea5fde2df09abdeb098ea2af6ba80fa2ef4ef1d7bcc69b0"
 },
 "nbformat": 3,
 "nbformat_minor": 0,
 "worksheets": [
  {
   "cells": [
    {
     "cell_type": "markdown",
     "metadata": {},
     "source": [
      "using-halocat-binaries\n",
      "\n",
      "Tutorial on managing pre-processed halo catalogs\n"
     ]
    },
    {
     "cell_type": "markdown",
     "metadata": {},
     "source": [
      "If you are following this tutorial, you should first have downloaded the default Halotools catalog by following the instructions given in the :ref:`first_steps` section of the documentation. Follow those instructions now if you have not done so already. "
     ]
    },
    {
     "cell_type": "markdown",
     "metadata": {},
     "source": [
      "## Working with the default pre-processed snapshot\n",
      "\n",
      "To get warmed up, let's see how to work with the default snapshot provided by Halotools. After importing the `--~halotools.sim_manager--` sub-package, you can load the default snapshot into memory with a single line of code:"
     ]
    },
    {
     "cell_type": "code",
     "collapsed": false,
     "input": [
      "from halotools import sim_manager\n",
      "default_snapshot = sim_manager.ProcessedSnapshot()\n"
     ],
     "language": "python",
     "metadata": {},
     "outputs": [
      {
       "output_type": "stream",
       "stream": "stdout",
       "text": [
        "Loading halo catalog with the following absolute path: \n",
        "/Users/aphearin/.astropy/cache/halotools/halo_catalogs/bolshoi/rockstar/hlist_1.00030.list.halotools.official.version.hdf5\n",
        "\n"
       ]
      }
     ],
     "prompt_number": 1
    },
    {
     "cell_type": "markdown",
     "metadata": {},
     "source": [
      "The `--~halotools.sim_manager.ProcessedSnapshot--` is the primary class you will use when working with halo catalogs. When you instantiate this class, as in the second line of code above, Halotools first searches for the relevant halo catalog in your cache directory. Since you called `--~halotools.sim_manager.ProcessedSnapshot--` with no arguments, the default snapshot is chosen.  \n",
      "\n",
      "The halo catalog is attached to the snapshot object in the form of the ``halos`` attribute:"
     ]
    },
    {
     "cell_type": "code",
     "collapsed": false,
     "input": [
      "print(default_snapshot.halos[0:4])\n"
     ],
     "language": "python",
     "metadata": {},
     "outputs": [
      {
       "output_type": "stream",
       "stream": "stdout",
       "text": [
        "scale    haloid   scale_desc ... mvir_firstacc vmax_firstacc vmax_mpeak\n",
        "------ ---------- ---------- ... ------------- ------------- ----------\n",
        "1.0003 3060299107        0.0 ...     1.643e+14        952.39     952.39\n",
        "1.0003 3060312953        0.0 ...     1.589e+14        823.11     823.11\n",
        "1.0003 3058440575        0.0 ...     1.144e+14        799.42     799.42\n",
        "1.0003 3058441456        0.0 ...     9.709e+13        679.37     679.37\n"
       ]
      }
     ],
     "prompt_number": 2
    },
    {
     "cell_type": "markdown",
     "metadata": {},
     "source": [
      "The data structure behind the scenes of the ``halos`` attribute of ``default_snapshot`` is an Astropy Table. We'll give a few simple examples illustrating how to manipulate Astropy Tables below, but for more detailed information about this data structure, see `--astropy.table--`. \n",
      "\n",
      "The ``default_snapshot`` also has the halo catalog and simulation metadata bound to it. Here are a few examples:"
     ]
    },
    {
     "cell_type": "code",
     "collapsed": false,
     "input": [
      "print(\"Simulation name = %s \" % default_snapshot.simname)\n",
      "print(\"Halo-finder = %s \" % default_snapshot.halo_finder)\n",
      "print(\"Snapshot redshift = %.1f \" % default_snapshot.redshift)\n"
     ],
     "language": "python",
     "metadata": {},
     "outputs": [
      {
       "output_type": "stream",
       "stream": "stdout",
       "text": [
        "Simulation name = bolshoi \n",
        "Halo-finder = rockstar \n",
        "Snapshot redshift = -0.0 \n"
       ]
      }
     ],
     "prompt_number": 2
    },
    {
     "cell_type": "markdown",
     "metadata": {},
     "source": [
      "There is also metadata describing details of how the catalog was produced:"
     ]
    },
    {
     "cell_type": "code",
     "collapsed": false,
     "input": [
      "print(\"Source of original data = %s \" % default_snapshot.original_data_source)\n",
      "print(\"Time of original reduction = %s \" % default_snapshot.time_of_original_reduction)\n",
      "print(\"Description of applied cuts = \\n%s \" % default_snapshot.cuts_description)\n"
     ],
     "language": "python",
     "metadata": {},
     "outputs": [
      {
       "output_type": "stream",
       "stream": "stdout",
       "text": [
        "Source of original data = http://www.slac.stanford.edu/~behroozi/Bolshoi_Catalogs/ \n",
        "Time of original reduction = 2015-05-08 17:49:14 \n",
        "Description of applied cuts = \n",
        "The only cut on the original catalog made by  the default_halocat_cut method of RockstarReader is to throw out all (sub)halos with Mpeak < 300 particles \n"
       ]
      }
     ],
     "prompt_number": 3
    },
    {
     "cell_type": "markdown",
     "metadata": {},
     "source": [
      "# Downloading other pre-processed snapshots\n",
      "\n",
      "Up until now, you have been working with the default snapshot downloaded by the startup script ``download_initial_halocat``. However, the Halotools team also provides other pre-processed snapshots to choose from. To see which ones, you need to use the Catalog Manager:\n"
     ]
    },
    {
     "cell_type": "code",
     "collapsed": false,
     "input": [
      "catman = sim_manager.CatalogManager()\n"
     ],
     "language": "python",
     "metadata": {},
     "outputs": [],
     "prompt_number": 4
    },
    {
     "cell_type": "markdown",
     "metadata": {},
     "source": [
      "First, let's take a look at which combinations and halo-finders are supported by the package:"
     ]
    },
    {
     "cell_type": "code",
     "collapsed": false,
     "input": [
      "halocat_list = catman.available_halocats\n",
      "for simname, halo_finder in halocat_list:\n",
      "    print(simname, halo_finder)\n",
      "    "
     ],
     "language": "python",
     "metadata": {},
     "outputs": [
      {
       "output_type": "stream",
       "stream": "stdout",
       "text": [
        "('bolshoi', 'rockstar')\n",
        "('bolshoipl', 'rockstar')\n",
        "('bolshoi', 'bdm')\n",
        "('multidark', 'rockstar')\n",
        "('consuelo', 'rockstar')\n"
       ]
      }
     ],
     "prompt_number": 5
    },
    {
     "cell_type": "markdown",
     "metadata": {},
     "source": [
      "Each simulation/halo-finder combination is actually composed of a collection of many, many publicly available snapshots. To see which snapshots have been pre-processed, we'll use the `--~halotools.sim_manager.CatalogManager.available_redshifts--` method of the `--~halotools.sim_manager.CatalogManager--`:"
     ]
    },
    {
     "cell_type": "code",
     "collapsed": false,
     "input": [
      "location = 'web'\n",
      "catalog_type = 'halos'\n",
      "simname = 'bolshoi'\n",
      "halo_finder = 'rockstar'\n",
      "redshift_list = catman.available_redshifts(location, catalog_type, simname, halo_finder)\n",
      "for z in redshift_list:\n",
      "    print(\"z = %.2f \" % z)\n",
      "    "
     ],
     "language": "python",
     "metadata": {},
     "outputs": [
      {
       "output_type": "stream",
       "stream": "stdout",
       "text": [
        "z = 2.03 \n",
        "z = 0.98 \n",
        "z = 0.49 \n",
        "z = -0.00 \n"
       ]
      }
     ],
     "prompt_number": 6
    },
    {
     "cell_type": "markdown",
     "metadata": {},
     "source": [
      "So for this combination of simulation/halo-finder, we have four options to choose from for our pre-processed snapshot. To download the z=2 snapshot:"
     ]
    },
    {
     "cell_type": "code",
     "collapsed": false,
     "input": [
      "desired_redshift = 2.03\n",
      "catman.check_for_existing_halocat('cache', 'halos', simname, halo_finder, \n",
      "                                  redshift=desired_redshift)\n"
     ],
     "language": "python",
     "metadata": {},
     "outputs": [
      {
       "metadata": {},
       "output_type": "pyout",
       "prompt_number": 7,
       "text": [
        "u'/Users/aphearin/.astropy/cache/halotools/halo_catalogs/bolshoi/rockstar/hlist_0.33030.list.halotools.official.version.hdf5'"
       ]
      }
     ],
     "prompt_number": 7
    },
    {
     "cell_type": "code",
     "collapsed": false,
     "input": [
      "catman.download_preprocessed_halo_catalog(simname, halo_finder, desired_redshift)\n"
     ],
     "language": "python",
     "metadata": {},
     "outputs": [
      {
       "output_type": "stream",
       "stream": "stdout",
       "text": [
        "The following filename already exists in your cache directory: \n",
        "\n",
        "/Users/aphearin/.astropy/cache/halotools/halo_catalogs/bolshoi/rockstar/hlist_0.33030.list.halotools.official.version.hdf5\n",
        "\n",
        "If you really want to overwrite the file, \n",
        "you must call the same function again \n",
        "with the keyword argument `overwrite` set to `True`\n"
       ]
      }
     ],
     "prompt_number": 8
    },
    {
     "cell_type": "markdown",
     "metadata": {},
     "source": [
      "In this case, Halotools detected that the pre-processed halo catalog was actually already stored in my cache directory, so there was no need to download the catalog. If you are following this tutorial for the first time, the download would proceed. "
     ]
    },
    {
     "cell_type": "markdown",
     "metadata": {},
     "source": [
      "Now that your z=2 catalog is in cache, you can load it into memory just as before by using the `--~halotools.sim_manager.ProcessedSnapshot--` method:"
     ]
    },
    {
     "cell_type": "code",
     "collapsed": false,
     "input": [
      "z2_snapshot = sim_manager.ProcessedSnapshot(simname, halo_finder, desired_redshift)\n"
     ],
     "language": "python",
     "metadata": {},
     "outputs": [
      {
       "output_type": "stream",
       "stream": "stdout",
       "text": [
        "Loading z = 2.03 halo catalog with the following absolute path: \n",
        "/Users/aphearin/.astropy/cache/halotools/halo_catalogs/bolshoi/rockstar/hlist_0.33030.list.halotools.official.version.hdf5\n",
        "\n"
       ]
      }
     ],
     "prompt_number": 9
    },
    {
     "cell_type": "markdown",
     "metadata": {},
     "source": [
      "## Concluding notes\n",
      "\n",
      "If you anticipate studying how your science targets depend on redshift, cosmology, or halo-finding, you may find it useful to use the `--~halotools.sim_manager.CatalogManager.download_all_default_catalogs--` method. This will download the following pre-processed snapshots to your cache directory:\n",
      "\n",
      "    * Rockstar-based Bolshoi halos at z = 0, 0.5, 1, and 2\n",
      "    * BDM-based Bolshoi halos at z=0\n",
      "    * Rockstar-based Bolshoi-Planck halos at z=0\n",
      "    \n",
      "These catalogs will occupy a total of ~3Gb of disk space on your machine. "
     ]
    },
    {
     "cell_type": "markdown",
     "metadata": {},
     "source": [
      "There are two other convenience methods that are worthy of special mention here. The first is `--~halotools.sim_manager.CatalogManager.check_for_existing_halocat--`, which checks your cache for an existing catalog. And the second is `--~halotools.sim_manager.CatalogManager.all_halocats_in_cache--`, which lists all cached catalogs of a given type. Refer to the :ref:`sim_manager_api` section of the documentation to see how to call these and other methods of the `--~halotools.sim_manager.CatalogManager--`. "
     ]
    },
    {
     "cell_type": "code",
     "collapsed": false,
     "input": [],
     "language": "python",
     "metadata": {},
     "outputs": [],
     "prompt_number": 9
    }
   ],
   "metadata": {}
  }
 ]
}