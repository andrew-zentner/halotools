{
 "metadata": {
  "name": "",
  "signature": "sha256:a77d9ffa3ddfc3b1b338ce9024d497fc8679524280bfffb542a9eb348765005b"
 },
 "nbformat": 3,
 "nbformat_minor": 0,
 "worksheets": [
  {
   "cells": [
    {
     "cell_type": "code",
     "collapsed": false,
     "input": [
      "import halotools\n"
     ],
     "language": "python",
     "metadata": {},
     "outputs": [],
     "prompt_number": 1
    },
    {
     "cell_type": "markdown",
     "metadata": {},
     "source": [
      "\n",
      "Here are some markdown comments. "
     ]
    },
    {
     "cell_type": "code",
     "collapsed": false,
     "input": [
      "example_mock = 7\n"
     ],
     "language": "python",
     "metadata": {},
     "outputs": [],
     "prompt_number": 2
    },
    {
     "cell_type": "markdown",
     "metadata": {},
     "source": [
      "\n",
      "## Here is a new section heading"
     ]
    },
    {
     "cell_type": "markdown",
     "metadata": {},
     "source": [
      "\n",
      "* Building HOD-based mocks"
     ]
    },
    {
     "cell_type": "code",
     "collapsed": false,
     "input": [
      "hod_code=33\n"
     ],
     "language": "python",
     "metadata": {},
     "outputs": [],
     "prompt_number": 3
    },
    {
     "cell_type": "markdown",
     "metadata": {},
     "source": [
      "\n",
      "* Building CLF-based mocks"
     ]
    },
    {
     "cell_type": "code",
     "collapsed": false,
     "input": [
      "clf_code = 78\n"
     ],
     "language": "python",
     "metadata": {},
     "outputs": [],
     "prompt_number": 4
    },
    {
     "cell_type": "markdown",
     "metadata": {},
     "source": [
      "\n",
      "* Building abundance matching mocks"
     ]
    },
    {
     "cell_type": "code",
     "collapsed": false,
     "input": [
      "sham_code = 1\n"
     ],
     "language": "python",
     "metadata": {},
     "outputs": [],
     "prompt_number": 5
    }
   ],
   "metadata": {}
  }
 ]
}