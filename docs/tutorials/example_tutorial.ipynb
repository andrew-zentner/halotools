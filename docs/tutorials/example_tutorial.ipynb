{
 "metadata": {
  "name": "",
  "signature": "sha256:c22437c0fb1eec4d02f34af012f722b91592639af9218ba684fcc7389478d6fc"
 },
 "nbformat": 3,
 "nbformat_minor": 0,
 "worksheets": [
  {
   "cells": [
    {
     "cell_type": "markdown",
     "metadata": {},
     "source": [
      "example-tutorial\n",
      "\n",
      "Example IPython Notebook Tutorial\n"
     ]
    },
    {
     "cell_type": "code",
     "collapsed": false,
     "input": [
      "import halotools\n"
     ],
     "language": "python",
     "metadata": {},
     "outputs": [],
     "prompt_number": 1
    },
    {
     "cell_type": "markdown",
     "metadata": {},
     "source": [
      "\n",
      "Here are some markdown comments. "
     ]
    },
    {
     "cell_type": "code",
     "collapsed": false,
     "input": [
      "example_mock = 7\n"
     ],
     "language": "python",
     "metadata": {},
     "outputs": [],
     "prompt_number": 2
    },
    {
     "cell_type": "markdown",
     "metadata": {},
     "source": [
      "\n",
      "## Here is a new section heading"
     ]
    },
    {
     "cell_type": "markdown",
     "metadata": {},
     "source": [
      "\n",
      "* Building HOD-based mocks"
     ]
    },
    {
     "cell_type": "code",
     "collapsed": false,
     "input": [
      "hod_code=33\n"
     ],
     "language": "python",
     "metadata": {},
     "outputs": [],
     "prompt_number": 3
    },
    {
     "cell_type": "markdown",
     "metadata": {},
     "source": [
      "\n",
      "* Building CLF-based mocks"
     ]
    },
    {
     "cell_type": "code",
     "collapsed": false,
     "input": [
      "clf_code = 78\n"
     ],
     "language": "python",
     "metadata": {},
     "outputs": [],
     "prompt_number": 4
    },
    {
     "cell_type": "markdown",
     "metadata": {},
     "source": [
      "\n",
      "* Building abundance matching mocks"
     ]
    },
    {
     "cell_type": "code",
     "collapsed": false,
     "input": [
      "sham_code = 1\n"
     ],
     "language": "python",
     "metadata": {},
     "outputs": [],
     "prompt_number": 5
    }
   ],
   "metadata": {}
  }
 ]
}