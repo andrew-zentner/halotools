{
 "metadata": {
  "name": "",
  "signature": "sha256:062fbaad16c276b54d7d9ccf1080a24973fcd477e4af32f579c103755c4ed6b4"
 },
 "nbformat": 3,
 "nbformat_minor": 0,
 "worksheets": [
  {
   "cells": [
    {
     "cell_type": "markdown",
     "metadata": {},
     "source": [
      "raw-halocats-tutorial\n",
      "\n",
      "Tutorial on managing raw ASCII halo catalog data\n"
     ]
    },
    {
     "cell_type": "markdown",
     "metadata": {},
     "source": [
      "The goal of this tutorial is to teach you how to use Halotools to start from scratch by downloading raw ASCII halo catalog data and producing your own reduced binary, appropriately processed for your science target. Before following this tutorial, you will probably find it helpful to first read the :ref:`using_halocat_binaries`, so that you have a sense of what the end product will be like to work with. "
     ]
    },
    {
     "cell_type": "markdown",
     "metadata": {},
     "source": [
      "## Downloading the raw halo catalog"
     ]
    },
    {
     "cell_type": "code",
     "collapsed": false,
     "input": [
      "from halotools import sim_manager\n",
      "catman = sim_manager.CatalogManager()"
     ],
     "language": "python",
     "metadata": {},
     "outputs": [],
     "prompt_number": 1
    },
    {
     "cell_type": "code",
     "collapsed": false,
     "input": [
      "simname = 'multidark'\n",
      "halo_finder = 'rockstar'\n",
      "location = 'web'\n",
      "catalog_type = 'raw_halos'\n",
      "redshift_list = catman.available_redshifts(location, catalog_type, simname, halo_finder)\n",
      "desired_redshift = max(redshift_list)\n",
      "print(\"desired redshift = %.2f \" % desired_redshift)\n"
     ],
     "language": "python",
     "metadata": {},
     "outputs": [
      {
       "output_type": "stream",
       "stream": "stdout",
       "text": [
        "desired redshift = 10.34 \n"
       ]
      }
     ],
     "prompt_number": 2
    },
    {
     "cell_type": "code",
     "collapsed": false,
     "input": [
      "catman.check_for_existing_halocat('cache', catalog_type, \n",
      "                                  simname=simname, halo_finder=halo_finder, \n",
      "                                  redshift=desired_redshift)\n"
     ],
     "language": "python",
     "metadata": {},
     "outputs": [
      {
       "output_type": "stream",
       "stream": "stdout",
       "text": [
        "No raw multidark halo catalog has \n",
        "a redshift within 0.10 of the input_redshift = 10.34.\n",
        " The closest redshift for these catalogs is 8.83\n"
       ]
      },
      {
       "metadata": {},
       "output_type": "pyout",
       "prompt_number": 3,
       "text": [
        "False"
       ]
      }
     ],
     "prompt_number": 3
    },
    {
     "cell_type": "code",
     "collapsed": false,
     "input": [
      "downloaded_fname = catman.download_raw_halocat(simname, halo_finder, desired_redshift)\n"
     ],
     "language": "python",
     "metadata": {},
     "outputs": [
      {
       "output_type": "stream",
       "stream": "stdout",
       "text": [
        "\n",
        "... Downloading data from the following location: \n",
        "http://slac.stanford.edu/~behroozi/MultiDark_Hlists_Rockstar/hlist_0.08820.list.gz\n",
        "\n",
        " ... Saving the data with the following filename: \n",
        "/Users/aphearin/.astropy/cache/halotools/raw_halo_catalogs/multidark/rockstar/hlist_0.08820.list.gz\n",
        "\n",
        " 0.0% of 8051 bytes\r"
       ]
      },
      {
       "output_type": "stream",
       "stream": "stdout",
       "text": [
        " 100.0% of 8051 bytes\r"
       ]
      }
     ],
     "prompt_number": 4
    },
    {
     "cell_type": "markdown",
     "metadata": {},
     "source": [
      "The highest-redshift Rockstar catalog for Multidark is now in your cache directory. You can verify this as follows:"
     ]
    },
    {
     "cell_type": "code",
     "collapsed": false,
     "input": [
      "check_location = 'cache'\n",
      "catman.check_for_existing_halocat('cache', catalog_type, \n",
      "                                  simname=simname, halo_finder=halo_finder, \n",
      "                                  redshift=desired_redshift)\n"
     ],
     "language": "python",
     "metadata": {},
     "outputs": [
      {
       "metadata": {},
       "output_type": "pyout",
       "prompt_number": 5,
       "text": [
        "u'/Users/aphearin/.astropy/cache/halotools/raw_halo_catalogs/multidark/rockstar/hlist_0.08820.list.gz'"
       ]
      }
     ],
     "prompt_number": 5
    },
    {
     "cell_type": "code",
     "collapsed": false,
     "input": [],
     "language": "python",
     "metadata": {},
     "outputs": [],
     "prompt_number": 5
    }
   ],
   "metadata": {}
  }
 ]
}