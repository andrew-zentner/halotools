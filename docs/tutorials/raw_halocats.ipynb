{
 "metadata": {
  "name": "",
  "signature": "sha256:d67c60e71ea1a4ead9150c54957b95df1b6385f95a509000aff82dfe97dcfe5b"
 },
 "nbformat": 3,
 "nbformat_minor": 0,
 "worksheets": [
  {
   "cells": [
    {
     "cell_type": "markdown",
     "metadata": {},
     "source": [
      "raw-halocats-tutorial\n",
      "\n",
      "Tutorial on managing raw ASCII halo catalog data\n"
     ]
    },
    {
     "cell_type": "markdown",
     "metadata": {},
     "source": [
      "The goal of this tutorial is to teach you how to use Halotools to start from scratch by downloading raw ASCII halo catalog data and producing your own reduced binary, appropriately processed for your science target. Before following this tutorial, you will probably find it helpful to first read the :ref:`using_halocat_binaries`, so that you have a sense of what the end product will be like to work with. "
     ]
    },
    {
     "cell_type": "markdown",
     "metadata": {},
     "source": [
      "## Downloading the raw halo catalog"
     ]
    },
    {
     "cell_type": "markdown",
     "metadata": {},
     "source": [
      "The first thing we'll do is to load the Catalog Manager, which takes charge of handling all the bookkeeping of simulation files and processing. "
     ]
    },
    {
     "cell_type": "code",
     "collapsed": false,
     "input": [
      "from halotools import sim_manager\n",
      "catman = sim_manager.CatalogManager()\n"
     ],
     "language": "python",
     "metadata": {},
     "outputs": [],
     "prompt_number": 1
    },
    {
     "cell_type": "markdown",
     "metadata": {},
     "source": [
      "In this section, we'll download some raw ascii data from one of the publicly available data sources on the web. Let's use the `--~halotools.sim_manager.CatalogManager.available_halocats--` method to take a look at what options we have for the catalogs:"
     ]
    },
    {
     "cell_type": "code",
     "collapsed": false,
     "input": [
      "for simname, halo_finder in catman.available_halocats:\n",
      "    print(simname, halo_finder)"
     ],
     "language": "python",
     "metadata": {},
     "outputs": [
      {
       "output_type": "stream",
       "stream": "stdout",
       "text": [
        "('bolshoi', 'rockstar')\n",
        "('bolshoipl', 'rockstar')\n",
        "('bolshoi', 'bdm')\n",
        "('multidark', 'rockstar')\n",
        "('consuelo', 'rockstar')\n"
       ]
      }
     ],
     "prompt_number": 2
    },
    {
     "cell_type": "markdown",
     "metadata": {},
     "source": [
      "Ok, so let's suppose we're interested in downloading the highest-available redshift of Rockstar halos from the Multidark simulation. We need to tell the `--~halotools.sim_manager.CatalogManager--` the specific redshift we want to download, so let's use the `--~halotools.sim_manager.CatalogManager.available_redshifts--` method to see which specific snapshots are available for Multidark:"
     ]
    },
    {
     "cell_type": "code",
     "collapsed": false,
     "input": [
      "simname, halo_finder = 'multidark', 'rockstar'\n",
      "location = 'web'\n",
      "catalog_type = 'raw_halos' # This specifies that we want the original halo catalogs, not a pre-processed binary\n",
      "\n",
      "redshift_list = catman.available_redshifts(location, catalog_type, simname, halo_finder)\n",
      "desired_redshift = max(redshift_list)\n",
      "print(\"desired redshift = %.2f \" % desired_redshift)\n"
     ],
     "language": "python",
     "metadata": {},
     "outputs": [
      {
       "output_type": "stream",
       "stream": "stdout",
       "text": [
        "desired redshift = 10.34 \n"
       ]
      }
     ],
     "prompt_number": 3
    },
    {
     "cell_type": "markdown",
     "metadata": {},
     "source": [
      "Now that we know what redshift we want, we can use the `--~halotools.sim_manager.CatalogManager.download_raw_halocat--` method to find the catalog on the web and download it to our cache directory:"
     ]
    },
    {
     "cell_type": "code",
     "collapsed": false,
     "input": [
      "downloaded_fname = catman.download_raw_halocat(simname, halo_finder, desired_redshift)\n"
     ],
     "language": "python",
     "metadata": {},
     "outputs": [
      {
       "output_type": "stream",
       "stream": "stdout",
       "text": [
        "The following filename already exists in your cache directory: \n",
        "\n",
        "/Users/aphearin/.astropy/cache/halotools/raw_halo_catalogs/multidark/rockstar/hlist_0.08820.list.gz\n",
        "\n",
        "If you really want to overwrite the file, \n",
        "you must call the same function again \n",
        "with the keyword argument `overwrite` set to `True`\n"
       ]
      }
     ],
     "prompt_number": 4
    },
    {
     "cell_type": "markdown",
     "metadata": {},
     "source": [
      "The highest-redshift Rockstar catalog for Multidark is now in your cache directory. You can verify this using the `--~halotools.sim_manager.CatalogManager.check_for_existing_halocat--` method. This method returns ``False`` if no catalog is detected; if a matching catalog is detected, the filename (including absolute path) is returned. "
     ]
    },
    {
     "cell_type": "code",
     "collapsed": false,
     "input": [
      "check_location = 'cache'\n",
      "test_already_exists = catman.check_for_existing_halocat('cache', catalog_type, \n",
      "                                  simname=simname, halo_finder=halo_finder, \n",
      "                                  redshift=desired_redshift)\n",
      "print(test_already_exists)\n",
      "downloaded_fname = test_already_exists"
     ],
     "language": "python",
     "metadata": {},
     "outputs": [
      {
       "output_type": "stream",
       "stream": "stdout",
       "text": [
        "/Users/aphearin/.astropy/cache/halotools/raw_halo_catalogs/multidark/rockstar/hlist_0.08820.list.gz\n"
       ]
      }
     ],
     "prompt_number": 5
    },
    {
     "cell_type": "markdown",
     "metadata": {},
     "source": [
      "Success! We're now in business with a newly downloaded halo catalog. "
     ]
    },
    {
     "cell_type": "markdown",
     "metadata": {},
     "source": [
      "## Processing the raw halo catalog into a reduced binary"
     ]
    },
    {
     "cell_type": "markdown",
     "metadata": {},
     "source": [
      "ASCII data is a relatively slow file format to load into memory, particularly for large files such as halo catalogs. So in this section we'll describe how to convert a raw halo catalong into a fast-loading HDF5 file, and store it in your cache directory for future use. "
     ]
    },
    {
     "cell_type": "code",
     "collapsed": false,
     "input": [
      "result = catman.process_raw_halocat(downloaded_fname, simname, halo_finder, \n",
      "                                    store_result=True, overwrite=True, \n",
      "                                    version_name='dummy', cuts_funcobj='nocut')\n"
     ],
     "language": "python",
     "metadata": {},
     "outputs": [
      {
       "output_type": "stream",
       "stream": "stdout",
       "text": [
        "...uncompressing ASCII data\n",
        "\n",
        "...Processing ASCII data of file: \n",
        "/Users/aphearin/.astropy/cache/halotools/raw_halo_catalogs/multidark/rockstar/hlist_0.08820.list\n",
        " \n",
        " Total number of rows in file = 90\n",
        " Number of rows in detected header = 57 \n",
        "\n",
        "Reading catalog in a single chunk of size 90\n",
        "\n",
        "Total runtime to read in ASCII = 0.0 seconds\n",
        "\n",
        "...re-compressing ASCII data\n",
        "Storing reduced halo catalog in the following location:\n",
        "/Users/aphearin/.astropy/cache/halotools/halo_catalogs/multidark/rockstar/hlist_0.08820.list.dummy.hdf5\n"
       ]
      }
     ],
     "prompt_number": 6
    },
    {
     "cell_type": "code",
     "collapsed": false,
     "input": [],
     "language": "python",
     "metadata": {},
     "outputs": [],
     "prompt_number": 6
    }
   ],
   "metadata": {}
  }
 ]
}