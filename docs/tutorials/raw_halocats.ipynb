{
 "metadata": {
  "name": "",
  "signature": "sha256:aa39c02e26c37f571223a672662b711d0c7ff949e417909a07d9807530e9dff4"
 },
 "nbformat": 3,
 "nbformat_minor": 0,
 "worksheets": [
  {
   "cells": [
    {
     "cell_type": "markdown",
     "metadata": {},
     "source": [
      "raw-halocats-tutorial\n",
      "\n",
      "Tutorial on managing raw ASCII halo catalog data\n"
     ]
    },
    {
     "cell_type": "markdown",
     "metadata": {},
     "source": [
      "The goal of this tutorial is to teach you how to use Halotools to start from scratch by downloading raw ASCII halo catalog data and producing your own reduced binary, appropriately processed for your science target. Before following this tutorial, you will probably find it helpful to first read the :ref:`using_halocat_binaries`, so that you have a sense of what the end product will be like to work with. "
     ]
    },
    {
     "cell_type": "markdown",
     "metadata": {},
     "source": [
      "## Downloading the raw halo catalog"
     ]
    },
    {
     "cell_type": "markdown",
     "metadata": {},
     "source": [
      "The first thing we'll do is to load the Catalog Manager, which takes charge of handling all the bookkeeping of simulation files and processing. "
     ]
    },
    {
     "cell_type": "code",
     "collapsed": false,
     "input": [
      "from halotools import sim_manager\n",
      "catman = sim_manager.CatalogManager()\n"
     ],
     "language": "python",
     "metadata": {},
     "outputs": [],
     "prompt_number": 1
    },
    {
     "cell_type": "markdown",
     "metadata": {},
     "source": [
      "In this section, we'll download some raw ascii data from one of the publicly available data sources on the web. Let's use the `--~halotools.sim_manager.CatalogManager.available_halocats--` method to take a look at what options we have for the catalogs:"
     ]
    },
    {
     "cell_type": "code",
     "collapsed": false,
     "input": [
      "for simname, halo_finder in catman.available_halocats:\n",
      "    print(simname, halo_finder)"
     ],
     "language": "python",
     "metadata": {},
     "outputs": [
      {
       "output_type": "stream",
       "stream": "stdout",
       "text": [
        "('bolshoi', 'rockstar')\n",
        "('bolshoipl', 'rockstar')\n",
        "('bolshoi', 'bdm')\n",
        "('multidark', 'rockstar')\n",
        "('consuelo', 'rockstar')\n"
       ]
      }
     ],
     "prompt_number": 2
    },
    {
     "cell_type": "markdown",
     "metadata": {},
     "source": [
      "Ok, so let's suppose we're interested in downloading the highest-available redshift of Rockstar halos from the Multidark simulation. We need to tell the `--~halotools.sim_manager.CatalogManager--` the specific redshift we want to download, so let's use the `--~halotools.sim_manager.CatalogManager.available_redshifts--` method to see which specific snapshots are available for Multidark:"
     ]
    },
    {
     "cell_type": "code",
     "collapsed": false,
     "input": [
      "simname, halo_finder = 'multidark', 'rockstar'\n",
      "location = 'web'\n",
      "catalog_type = 'raw_halos' # This specifies that we want the original halo catalogs, not a pre-processed binary\n",
      "\n",
      "redshift_list = catman.available_redshifts(location, catalog_type, simname, halo_finder)\n",
      "desired_redshift = max(redshift_list)\n",
      "print(\"desired redshift = %.2f \" % desired_redshift)\n"
     ],
     "language": "python",
     "metadata": {},
     "outputs": [
      {
       "output_type": "stream",
       "stream": "stdout",
       "text": [
        "desired redshift = 10.34 \n"
       ]
      }
     ],
     "prompt_number": 3
    },
    {
     "cell_type": "markdown",
     "metadata": {},
     "source": [
      "Now that we know what redshift we want, we can use the `--~halotools.sim_manager.CatalogManager.download_raw_halocat--` method to find the catalog on the web and download it to our cache directory:"
     ]
    },
    {
     "cell_type": "code",
     "collapsed": false,
     "input": [
      "downloaded_fname = catman.download_raw_halocat(simname, halo_finder, desired_redshift)\n"
     ],
     "language": "python",
     "metadata": {},
     "outputs": [
      {
       "output_type": "stream",
       "stream": "stdout",
       "text": [
        "The following filename already exists in your cache directory: \n",
        "\n",
        "/Users/aphearin/.astropy/cache/halotools/raw_halo_catalogs/multidark/rockstar/hlist_0.08820.list.gz\n",
        "\n",
        "If you really want to overwrite the file, \n",
        "you must call the same function again \n",
        "with the keyword argument `overwrite` set to `True`\n"
       ]
      }
     ],
     "prompt_number": 4
    },
    {
     "cell_type": "markdown",
     "metadata": {},
     "source": [
      "The highest-redshift Rockstar catalog for Multidark is now in your cache directory. You can verify this using the `--~halotools.sim_manager.CatalogManager.check_for_existing_halocat--` method. This method returns ``False`` if no catalog is detected; if a matching catalog is detected, the filename (including absolute path) is returned. "
     ]
    },
    {
     "cell_type": "code",
     "collapsed": false,
     "input": [
      "check_location = 'cache'\n",
      "test_already_exists = catman.check_for_existing_halocat('cache', catalog_type, \n",
      "                                  simname=simname, halo_finder=halo_finder, \n",
      "                                  redshift=desired_redshift)\n",
      "print(test_already_exists)\n",
      "downloaded_fname = test_already_exists"
     ],
     "language": "python",
     "metadata": {},
     "outputs": [
      {
       "output_type": "stream",
       "stream": "stdout",
       "text": [
        "/Users/aphearin/.astropy/cache/halotools/raw_halo_catalogs/multidark/rockstar/hlist_0.08820.list.gz\n"
       ]
      }
     ],
     "prompt_number": 5
    },
    {
     "cell_type": "markdown",
     "metadata": {},
     "source": [
      "Success! We're now in business with a newly downloaded halo catalog. "
     ]
    },
    {
     "cell_type": "markdown",
     "metadata": {},
     "source": [
      "## Processing the raw halo catalog into a reduced binary"
     ]
    },
    {
     "cell_type": "markdown",
     "metadata": {},
     "source": [
      "ASCII data is a relatively slow file format to load into memory, particularly for large files such as halo catalogs. So in this section we'll describe how to convert a raw halo catalong into a fast-loading HDF5 file, and store it in your cache directory for future use. \n",
      "\n",
      "The primary method of the `--~halotools.sim_manager.CatalogManager--` class that you will use is `--~halotools.sim_manager.CatalogManager.process_raw_halocat--`. This method does three things:\n",
      "    1. Reads the raw halo catalog ASCII either from the cache or an alternative location\n",
      "    2. Optionally makes customizable cuts on the rows of the halo catalog, returning a numpy structured array\n",
      "    3. Optionally stores the cut catalog into cache, or another directory location of your choosing\n",
      "    \n",
      "Let's use the Multidark file we just downloaded to see how `--~halotools.sim_manager.CatalogManager.process_raw_halocat--` works. "
     ]
    },
    {
     "cell_type": "code",
     "collapsed": false,
     "input": [
      "result = catman.process_raw_halocat(downloaded_fname, simname, halo_finder, \n",
      "                                    store_result=True, overwrite=True, \n",
      "                                    version_name='dummy', cuts_funcobj='nocut')\n"
     ],
     "language": "python",
     "metadata": {},
     "outputs": [
      {
       "output_type": "stream",
       "stream": "stdout",
       "text": [
        "...uncompressing ASCII data\n",
        "\n",
        "...Processing ASCII data of file: \n",
        "/Users/aphearin/.astropy/cache/halotools/raw_halo_catalogs/multidark/rockstar/hlist_0.08820.list\n",
        " \n",
        " Total number of rows in file = 90\n",
        " Number of rows in detected header = 57 \n",
        "\n",
        "Reading catalog in a single chunk of size 90\n",
        "\n",
        "Total runtime to read in ASCII = 0.0 seconds\n",
        "\n",
        "...re-compressing ASCII data\n",
        "Storing reduced halo catalog in the following location:\n",
        "/Users/aphearin/.astropy/cache/halotools/halo_catalogs/multidark/rockstar/hlist_0.08820.list.dummy.hdf5\n"
       ]
      }
     ],
     "prompt_number": 6
    },
    {
     "cell_type": "markdown",
     "metadata": {},
     "source": [
      "Although this particular file processes almost instantly, this is not the case for much larger catalogs, and so Halotools issues messages describing the status of the reduction along the way. "
     ]
    },
    {
     "cell_type": "markdown",
     "metadata": {},
     "source": [
      "In the above call to `--~halotools.sim_manager.CatalogManager.process_raw_halocat--`, there were three required positional arguments. The first is simply the filename (including absolute path) that the method should use to look for the ASCII data. The second two arguments, ``simname`` and ``halo_finder``, tell Halotools how to interpret the columns of data in the file. \n",
      "\n",
      "Under the hood, the ``simname`` and ``halo_finder`` trigger Halotools to look for a `--~halotools.sim_manager.HaloCat--` object with matching ``simname`` and ``halo_finder``. If you want to use `--~halotools.sim_manager.CatalogManager--` to process your halo catalogs, you must either choose one of the supported combinations of simulation/halo-finder, or write your own `--~halotools.sim_manager.HaloCat--` object. This latter option is quite straightforward, as the class pattern can be simply matched against the existing `--~halotools.sim_manager.HaloCat--` objects; the main component of the work in using your own simulation is simply writing a ``dtype`` that specifies the keyname and data type for each column in your ASCII data. "
     ]
    },
    {
     "cell_type": "markdown",
     "metadata": {},
     "source": [
      "## Processing options"
     ]
    },
    {
     "cell_type": "markdown",
     "metadata": {},
     "source": [
      "Now let's unpack the remaining arguments to get a sense of what options you have for how your ASCII data is processed. \n",
      "\n"
     ]
    },
    {
     "cell_type": "markdown",
     "metadata": {},
     "source": [
      "### 1. Storing the processed catalog in cache"
     ]
    },
    {
     "cell_type": "markdown",
     "metadata": {},
     "source": [
      "Setting ``store_result`` to ``True`` triggers Halotools to create an HDF5 file for the processed halo catalog and place it in your cache directory. If you choose this option, you must also specify a ``version_name`` that will be used to create a unique filename for the hdf5 file. \n",
      "\n",
      "If a matching halo catalog with the same version name already exists in the cache directory, then Halotools will not overwrite the existing catalog unless you explicitly set the optional ``overwrite`` keyword argument to ``True``. \n",
      "\n",
      "If you set ``store_result`` to ``False``, or simply omit this keyword argument, Halotools will not create an hdf5 file. In either case, the `--~halotools.sim_manager.CatalogManager.process_raw_halocat--` method will return two things:\n",
      "\n",
      "    1. A structured numpy array containing the processed halo catalog\n",
      "    2. The instance of the `--~halotools.sim_manager.RockstarReader--` object used to read the catalog."
     ]
    },
    {
     "cell_type": "markdown",
     "metadata": {},
     "source": [
      "### 2. Specifying your catalog cuts"
     ]
    },
    {
     "cell_type": "markdown",
     "metadata": {},
     "source": [
      "The ``cuts_funcobj`` keyword argument gives you the option to make any cuts you like when reducing the raw halo catalog. Whatever cuts you choose to make, as described below Halotools provides you with a bookkeeping device to automatically keep track of the exact cuts you used when creating a reduced binary file. \n",
      "\n",
      "Whatever cuts you choose, the `--~halotools.sim_manager.CatalogManager.process_raw_halocat--` method applies the cuts as the raw ASCII is being read in a series of chunks. This way, you do not need to have enough memory on your machine to load the entire uncut catalog - all you need is enough memory to store the post-processed catalog. "
     ]
    },
    {
     "cell_type": "markdown",
     "metadata": {},
     "source": [
      "    Option 1: **Default cut**. If you do not pass the ``cuts_funcobj`` keyword argument to the `--~halotools.sim_manager.CatalogManager.process_raw_halocat--` method, default cuts will be chosen for you. These default cuts are specified by the `--~halotools.sim_manager.RockstarReader--` method of the `--~halotools.sim_manager.RockstarReader--`. The current default cut is to throw out any halo or subhalo that never had more than 300 particles at any point in its past history. "
     ]
    },
    {
     "cell_type": "markdown",
     "metadata": {},
     "source": [
      "    Option 2: **No cut**. If you set the ``cuts_funcobj`` keyword argument to the string ``nocut``, then the `--~halotools.sim_manager.CatalogManager.process_raw_halocat--` method will keep all rows. "
     ]
    },
    {
     "cell_type": "markdown",
     "metadata": {},
     "source": [
      "Note that for most science applications, the default 300-particle cut is reasonably conservative. For many science targets, more stringent completeness requirements are appropriate, in which case the additional cuts can be applied post-processing with a boolean mask. However, this simple cut alone dramatically reduces the size of the resulting binary file, and so it is not recommended that you use the ``nocut`` option unless you are confident that relaxing the 300-particle cut is a necessity. "
     ]
    },
    {
     "cell_type": "markdown",
     "metadata": {},
     "source": [
      "    Option 3: **Custom cut**. By passing a python function object to ``cuts_funcobj``, you have the freedom to make any cuts you like. We'll give an example of this usage below. The only requirements on the function object are as follows:\n",
      "        i) The input is a numpy structured array with the same column names as the halo catalog, or fewer. \n",
      "        ii) The output is a boolean array of the same length as the input array.\n",
      "        iii) The function is a callable object from the namespace in which `--~halotools.sim_manager.CatalogManager.process_raw_halocat--` is called\n",
      "        iv) The function is stand-alone, and not a bound instance method of some other object."
     ]
    },
    {
     "cell_type": "code",
     "collapsed": false,
     "input": [
      "def example_custom_cut(x):\n",
      "    return x['vmax'] > 200"
     ],
     "language": "python",
     "metadata": {},
     "outputs": [],
     "prompt_number": 7
    },
    {
     "cell_type": "code",
     "collapsed": false,
     "input": [
      "custom_cut_halos, reader_obj = catman.process_raw_halocat(downloaded_fname, simname, halo_finder, \n",
      "                                    store_result=False, cuts_funcobj=example_custom_cut)\n"
     ],
     "language": "python",
     "metadata": {},
     "outputs": [
      {
       "output_type": "stream",
       "stream": "stdout",
       "text": [
        "...uncompressing ASCII data\n",
        "\n",
        "...Processing ASCII data of file: \n",
        "/Users/aphearin/.astropy/cache/halotools/raw_halo_catalogs/multidark/rockstar/hlist_0.08820.list\n",
        " \n",
        " Total number of rows in file = 90\n",
        " Number of rows in detected header = 57 \n",
        "\n",
        "Reading catalog in a single chunk of size 90\n",
        "\n",
        "Total runtime to read in ASCII = 0.0 seconds\n",
        "\n",
        "...re-compressing ASCII data\n"
       ]
      }
     ],
     "prompt_number": 8
    },
    {
     "cell_type": "code",
     "collapsed": false,
     "input": [],
     "language": "python",
     "metadata": {},
     "outputs": [],
     "prompt_number": 8
    }
   ],
   "metadata": {}
  }
 ]
}