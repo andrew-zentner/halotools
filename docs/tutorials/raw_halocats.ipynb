{
 "metadata": {
  "name": "",
  "signature": "sha256:81c0d89a57f44095082b109076500adfe4cb823a8a30c8c86bfa07d82e01dc40"
 },
 "nbformat": 3,
 "nbformat_minor": 0,
 "worksheets": [
  {
   "cells": [
    {
     "cell_type": "markdown",
     "metadata": {},
     "source": [
      "raw-halocats-tutorial\n",
      "\n",
      "Tutorial on managing raw ASCII halo catalog data\n"
     ]
    },
    {
     "cell_type": "markdown",
     "metadata": {},
     "source": [
      "The goal of this tutorial is to teach you how to use Halotools to start from scratch by downloading raw ASCII halo catalog data and producing your own reduced binary, appropriately processed for your science target. Before following this tutorial, you will probably find it helpful to first read the :ref:`using_halocat_binaries`, so that you have a sense of what the end product will be like to work with. "
     ]
    },
    {
     "cell_type": "code",
     "collapsed": false,
     "input": [],
     "language": "python",
     "metadata": {},
     "outputs": [],
     "prompt_number": 0
    }
   ],
   "metadata": {}
  }
 ]
}