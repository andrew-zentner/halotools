{
 "metadata": {
  "name": "",
  "signature": "sha256:2fd6fce868621bf8da00c217b0ccf1c80197e81f2d90a7079793282974b8b729"
 },
 "nbformat": 3,
 "nbformat_minor": 0,
 "worksheets": [
  {
   "cells": [
    {
     "cell_type": "markdown",
     "metadata": {},
     "source": [
      "custom-hod-model-building-tutorial"
     ]
    },
    {
     "cell_type": "markdown",
     "metadata": {},
     "source": [
      "Building a Customized HOD-style Model and Mock"
     ]
    },
    {
     "cell_type": "markdown",
     "metadata": {},
     "source": [
      "In this tutorial, we'll cover how to design your own HOD-style model of the galaxy-halo connection. We'll start out with a relatively simple model to illustrate the basic nuts and bolts. Then we'll build two successively more complicated example models. After completing this tutorial, you will know how to take full advantage of the flexibility offered by Halotools to construct quite complex HOD models with only a few lines of code. "
     ]
    },
    {
     "cell_type": "markdown",
     "metadata": {},
     "source": [
      "Once you have learned how to build a model, you can learn how to study its observational predictions in **THESE DOCS.** \n",
      "\n",
      "To read about other styles of models you can build with Halotools, see **THESE DOCS**. "
     ]
    },
    {
     "cell_type": "code",
     "collapsed": false,
     "input": [
      "from halotools import empirical_models as models\n"
     ],
     "language": "python",
     "metadata": {},
     "outputs": [],
     "prompt_number": 1
    },
    {
     "cell_type": "markdown",
     "metadata": {},
     "source": [
      "## Build a satellite population"
     ]
    },
    {
     "cell_type": "code",
     "collapsed": false,
     "input": [
      "sat_nickname = 'sats'\n",
      "\n",
      "occupation_model = models.hod_components.Kravtsov04Sats(threshold = -19)\n",
      "\n",
      "halo_prof_model = models.halo_prof_components.NFWProfile()\n",
      "gal_prof_model = models.gal_prof_factory.GalProfFactory(sat_nickname, halo_prof_model)\n",
      "\n",
      "satellite_component_dict = {'occupation' : occupation_model, \n",
      "                            'profile' : gal_prof_model}\n"
     ],
     "language": "python",
     "metadata": {},
     "outputs": [],
     "prompt_number": 2
    },
    {
     "cell_type": "markdown",
     "metadata": {},
     "source": [
      "## Build a central population"
     ]
    },
    {
     "cell_type": "code",
     "collapsed": false,
     "input": [
      "cen_nickname = 'cens'\n",
      "\n",
      "occupation_model = models.hod_components.Kravtsov04Cens(threshold = -19)\n",
      "\n",
      "halo_prof_model = models.halo_prof_components.TrivialProfile()\n",
      "gal_prof_model = models.gal_prof_factory.GalProfFactory(cen_nickname, halo_prof_model)\n",
      "\n",
      "central_component_dict = {'occupation' : occupation_model, \n",
      "                            'profile' : gal_prof_model}\n"
     ],
     "language": "python",
     "metadata": {},
     "outputs": [],
     "prompt_number": 3
    },
    {
     "cell_type": "markdown",
     "metadata": {},
     "source": [
      "## Bundle the populations together into a composite model blueprint\n",
      "\n",
      "This will serve as the blueprint used by the HodModelFactory to build a composite model object"
     ]
    },
    {
     "cell_type": "code",
     "collapsed": false,
     "input": [
      "composite_model_blueprint = {cen_nickname : central_component_dict, \n",
      "                        sat_nickname : satellite_component_dict\n",
      "                        }\n"
     ],
     "language": "python",
     "metadata": {},
     "outputs": [],
     "prompt_number": 4
    },
    {
     "cell_type": "markdown",
     "metadata": {},
     "source": [
      "## Pass the blueprint to the HodModelFactory, which knows what to do with it"
     ]
    },
    {
     "cell_type": "code",
     "collapsed": false,
     "input": [
      "my_model_object = models.HodModelFactory(composite_model_blueprint)\n"
     ],
     "language": "python",
     "metadata": {},
     "outputs": [],
     "prompt_number": 6
    },
    {
     "cell_type": "code",
     "collapsed": false,
     "input": [],
     "language": "python",
     "metadata": {},
     "outputs": []
    }
   ],
   "metadata": {}
  }
 ]
}